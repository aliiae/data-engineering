{
 "cells": [
  {
   "cell_type": "markdown",
   "metadata": {
    "editable": true
   },
   "source": [
    "# Part I. ETL Pipeline for Pre-Processing the Files"
   ]
  },
  {
   "cell_type": "markdown",
   "metadata": {
    "editable": true
   },
   "source": [
    "#### Importing Python packages "
   ]
  },
  {
   "cell_type": "code",
   "execution_count": 1,
   "metadata": {
    "editable": true
   },
   "outputs": [],
   "source": [
    "import pandas as pd\n",
    "import cassandra\n",
    "import re\n",
    "import os\n",
    "import glob\n",
    "import numpy as np\n",
    "import json\n",
    "import csv"
   ]
  },
  {
   "cell_type": "markdown",
   "metadata": {
    "editable": true
   },
   "source": [
    "#### Creating list of filepaths to process original event csv data files"
   ]
  },
  {
   "cell_type": "code",
   "execution_count": 2,
   "metadata": {
    "editable": true
   },
   "outputs": [
    {
     "name": "stdout",
     "output_type": "stream",
     "text": [
      "/home/workspace\n"
     ]
    }
   ],
   "source": [
    "print(os.getcwd())\n",
    "filepath = os.getcwd() + '/event_data'\n",
    "for root, dirs, files in os.walk(filepath):\n",
    "    file_path_list = glob.glob(os.path.join(root,'*'))"
   ]
  },
  {
   "cell_type": "markdown",
   "metadata": {
    "editable": true
   },
   "source": [
    "#### Processing the files to create the data file csv that will be used for Apache Cassandra tables"
   ]
  },
  {
   "cell_type": "code",
   "execution_count": 3,
   "metadata": {
    "editable": true
   },
   "outputs": [
    {
     "name": "stdout",
     "output_type": "stream",
     "text": [
      "Total number of rows: 8056\n"
     ]
    }
   ],
   "source": [
    "full_data_rows_list = [] \n",
    "for f in file_path_list:\n",
    "    with open(f, 'r', encoding = 'utf8', newline='') as csvfile: \n",
    "        csvreader = csv.reader(csvfile) \n",
    "        next(csvreader)        \n",
    "        for line in csvreader:\n",
    "            full_data_rows_list.append(line) \n",
    "            \n",
    "print('Total number of rows:', len(full_data_rows_list))\n",
    "\n",
    "# creating a smaller event data csv file called event_datafile_full csv that will be used to insert data into the \\\n",
    "# Apache Cassandra tables\n",
    "csv.register_dialect('myDialect', quoting=csv.QUOTE_ALL, skipinitialspace=True)\n",
    "with open('event_datafile_new.csv', 'w', encoding = 'utf8', newline='') as f:\n",
    "    writer = csv.writer(f, dialect='myDialect')\n",
    "    writer.writerow(['artist','firstName','gender','itemInSession','lastName','length',\\\n",
    "                'level','location','sessionId','song','userId'])\n",
    "    for row in full_data_rows_list:\n",
    "        if (row[0] == ''):\n",
    "            continue\n",
    "        writer.writerow((row[0], row[2], row[3], row[4], row[5], row[6], row[7], row[8], row[12], row[13], row[16]))"
   ]
  },
  {
   "cell_type": "code",
   "execution_count": 4,
   "metadata": {
    "editable": true
   },
   "outputs": [
    {
     "name": "stdout",
     "output_type": "stream",
     "text": [
      "6821\n"
     ]
    }
   ],
   "source": [
    "with open('event_datafile_new.csv', 'r', encoding = 'utf8') as f:\n",
    "    print(sum(1 for line in f))"
   ]
  },
  {
   "cell_type": "markdown",
   "metadata": {
    "editable": true
   },
   "source": [
    "# Part II. Querying the Cassandra Database\n",
    "\n",
    "The `event_datafile_new.csv` file contains the following columns: \n",
    "- artist \n",
    "- firstName of user\n",
    "- gender of user\n",
    "- item number in session\n",
    "- last name of user\n",
    "- length of the song\n",
    "- level (paid or free song)\n",
    "- location of the user\n",
    "- sessionId\n",
    "- song title\n",
    "- userId\n",
    "\n",
    "<img src=\"images/image_event_datafile_new.jpg\">"
   ]
  },
  {
   "cell_type": "code",
   "execution_count": 5,
   "metadata": {
    "editable": true
   },
   "outputs": [],
   "source": [
    "# Defining columns' ordering and types in one place to reduce code duplication.\n",
    "columns = [\n",
    "    ('artist', 'text'),\n",
    "    ('firstName', 'text'),\n",
    "    ('gender', 'text'),\n",
    "    ('itemInSession', 'int'),\n",
    "    ('lastName', 'text'),\n",
    "    ('length', 'float'),\n",
    "    ('level', 'text'),\n",
    "    ('location', 'text'),\n",
    "    ('sessionId', 'int'),\n",
    "    ('song', 'text'),\n",
    "    ('userId', 'int')\n",
    "]"
   ]
  },
  {
   "cell_type": "markdown",
   "metadata": {
    "editable": true
   },
   "source": [
    "#### Creating a Cluster"
   ]
  },
  {
   "cell_type": "code",
   "execution_count": 6,
   "metadata": {
    "editable": true
   },
   "outputs": [],
   "source": [
    "try:\n",
    "    from cassandra.cluster import Cluster\n",
    "    cluster = Cluster(['127.0.0.1'])\n",
    "    session = cluster.connect()\n",
    "except Exception as e:\n",
    "    print(e)"
   ]
  },
  {
   "cell_type": "markdown",
   "metadata": {
    "editable": true
   },
   "source": [
    "#### Creating Keyspace"
   ]
  },
  {
   "cell_type": "code",
   "execution_count": 7,
   "metadata": {
    "editable": true
   },
   "outputs": [],
   "source": [
    "try:\n",
    "    session.execute(\"\"\"\n",
    "    CREATE KEYSPACE IF NOT EXISTS sparkify \n",
    "    WITH REPLICATION = \n",
    "    { 'class' : 'SimpleStrategy', 'replication_factor' : 1 }\"\"\"\n",
    ")\n",
    "except Exception as e:\n",
    "    print(e)"
   ]
  },
  {
   "cell_type": "markdown",
   "metadata": {
    "editable": true
   },
   "source": [
    "#### Setting Keyspace"
   ]
  },
  {
   "cell_type": "code",
   "execution_count": 8,
   "metadata": {
    "editable": true
   },
   "outputs": [],
   "source": [
    "try:\n",
    "    session.set_keyspace('sparkify')\n",
    "except Exception as e:\n",
    "    print(e)"
   ]
  },
  {
   "cell_type": "markdown",
   "metadata": {
    "editable": true
   },
   "source": [
    "#### Defining Helper Functions\n",
    "\n",
    "Below are helper function to reduce code duplication."
   ]
  },
  {
   "cell_type": "code",
   "execution_count": 9,
   "metadata": {
    "editable": true
   },
   "outputs": [],
   "source": [
    "from typing import List, Union, Iterable\n",
    "\n",
    "FILE = 'event_datafile_new.csv'  # The input file.\n",
    "CREATED_TABLES = []  # Newly created tables are appended here to make sure that all are dropped at the end.\n",
    "# Columns and their ordering and types will be referred from here:\n",
    "COLUMN_TO_IDX = {column: (idx, data_type) for idx, (column, data_type) in enumerate(columns)}\n",
    "\n",
    "def value(row: List[str], column_name: str) -> Union[str, int, float]:\n",
    "    \"\"\"Returns the row's value corresponding to the column name.\"\"\"\n",
    "    index, data_type = COLUMN_TO_IDX[column_name]\n",
    "    assert index < len(row)\n",
    "    if data_type == 'int':\n",
    "        return int(row[index])\n",
    "    if data_type == 'float':\n",
    "        return float(row[index])\n",
    "    return row[index]\n",
    "\n",
    "def create_table(name: str, columns: List[str], primary_key: str) -> str:\n",
    "    \"\"\"\n",
    "    Creates a Cassandra table with the given name, columns and primary key.\n",
    "    Returns the utilized CQL query.\n",
    "    \"\"\"\n",
    "    query = f'CREATE TABLE IF NOT EXISTS {name} '\n",
    "    query += f'({\", \".join(column_and_type(column) for column in columns)}, PRIMARY KEY ({primary_key}))'\n",
    "    try:\n",
    "        session.execute(query)\n",
    "        CREATED_TABLES.append(name)\n",
    "        return query\n",
    "    except Exception as e:\n",
    "        print(e)\n",
    "        \n",
    "def column_and_type(column_name: str) -> str:\n",
    "    \"\"\"Returns column name and its type, e.g. `artist text`.\"\"\"\n",
    "    _, data_type = COLUMN_TO_IDX[column_name]\n",
    "    return column_name + ' ' + data_type\n",
    "\n",
    "        \n",
    "def insert_into_table(name: str, columns: List[str], lines: Iterable[str]) -> str:\n",
    "    \"\"\"Inserts lines into a Cassandra table with the given name.\"\"\"\n",
    "    query = f'INSERT INTO {name} ({\", \".join(columns)})'\n",
    "    query += f' VALUES ({\", \".join([\"%s\"] * len(columns))})'\n",
    "    try:\n",
    "        for line in lines:\n",
    "            session.execute(query, (value(line, column) for column in columns))\n",
    "        return query\n",
    "    except Exception as e:\n",
    "        print(e)\n",
    "        \n",
    "def display_query_results(query: str, columns: List[str]):\n",
    "    \"\"\"Pretty prints the result of the query for the given columns.\"\"\"\n",
    "    try:\n",
    "        rows = session.execute(query)\n",
    "        for row in rows:\n",
    "            print([getattr(row, column.lower()) for column in columns])\n",
    "    except Exception as e:\n",
    "        print(e)"
   ]
  },
  {
   "cell_type": "markdown",
   "metadata": {
    "editable": true
   },
   "source": [
    "## Queries of interest\n",
    "\n",
    "1. Give me the **artist, song title and song's length** in the music app history that was heard during **sessionId = 338, and itemInSession  = 4**.\n",
    "2. Give me only the following: **name of artist, song (sorted by itemInSession) and user (first and last name)** for **userid = 10, sessionid = 182**.    \n",
    "3. Give me every **user name (first and last)** in my music app history who listened to the **song 'All Hands Against His Own'**."
   ]
  },
  {
   "cell_type": "markdown",
   "metadata": {
    "editable": true
   },
   "source": [
    "### Query 1\n",
    "\n",
    "> Give me the artist, song title and song's length in the music app history that was heard during sessionId = 338, and itemInSession = 4."
   ]
  },
  {
   "cell_type": "code",
   "execution_count": 10,
   "metadata": {
    "editable": true
   },
   "outputs": [
    {
     "name": "stdout",
     "output_type": "stream",
     "text": [
      "CREATE TABLE IF NOT EXISTS song_by_session_item (sessionId int, itemInSession int, artist text, song text, length float, PRIMARY KEY ((sessionId, itemInSession)))\n"
     ]
    }
   ],
   "source": [
    "session_table_name = 'song_by_session_item'\n",
    "session_columns = ['sessionId', 'itemInSession', 'artist', 'song', 'length']\n",
    "session_create_query = create_table(session_table_name, session_columns, '(sessionId, itemInSession)')\n",
    "print(session_create_query)"
   ]
  },
  {
   "cell_type": "code",
   "execution_count": 11,
   "metadata": {
    "editable": true
   },
   "outputs": [
    {
     "name": "stdout",
     "output_type": "stream",
     "text": [
      "INSERT INTO song_by_session_item (sessionId, itemInSession, artist, song, length) VALUES (%s, %s, %s, %s, %s)\n"
     ]
    }
   ],
   "source": [
    "with open(FILE, encoding = 'utf8') as f:\n",
    "    csvreader = csv.reader(f)\n",
    "    next(csvreader) # skip header\n",
    "    session_insert_query = insert_into_table(session_table_name, session_columns, csvreader)\n",
    "\n",
    "print(session_insert_query)"
   ]
  },
  {
   "cell_type": "markdown",
   "metadata": {
    "editable": true
   },
   "source": [
    "#### Data Verification"
   ]
  },
  {
   "cell_type": "code",
   "execution_count": 12,
   "metadata": {
    "editable": true,
    "scrolled": true
   },
   "outputs": [
    {
     "name": "stdout",
     "output_type": "stream",
     "text": [
      "[338, 4, 'Faithless', 'Music Matters (Mark Knight Dub)', 495.30731201171875]\n"
     ]
    }
   ],
   "source": [
    "query = f\"SELECT * FROM {session_table_name} WHERE sessionId=338 AND itemInSession=4\"\n",
    "display_query_results(query, session_columns)"
   ]
  },
  {
   "cell_type": "markdown",
   "metadata": {
    "editable": true
   },
   "source": [
    "### Query 2\n",
    "\n",
    "> Give me only the following: name of artist, song (sorted by itemInSession) and user (first and last name) for userid = 10, sessionid = 182. "
   ]
  },
  {
   "cell_type": "code",
   "execution_count": 13,
   "metadata": {
    "editable": true
   },
   "outputs": [
    {
     "name": "stdout",
     "output_type": "stream",
     "text": [
      "CREATE TABLE IF NOT EXISTS song_by_user_session (userId int, sessionId int, artist text, song text, itemInSession int, firstName text, lastName text, PRIMARY KEY (userId, sessionId, itemInSession))\n",
      "INSERT INTO song_by_user_session (userId, sessionId, artist, song, itemInSession, firstName, lastName) VALUES (%s, %s, %s, %s, %s, %s, %s)\n"
     ]
    }
   ],
   "source": [
    "user_session_table_name = 'song_by_user_session'\n",
    "user_session_columns = ['userId', 'sessionId', 'artist', 'song', 'itemInSession', 'firstName', 'lastName']\n",
    "\n",
    "# Create table.\n",
    "user_session_create_query = create_table(user_session_table_name, user_session_columns, 'userId, sessionId, itemInSession')\n",
    "print(user_session_create_query)\n",
    "\n",
    "# Insert rows.\n",
    "with open(FILE, encoding = 'utf8') as f:\n",
    "    csvreader = csv.reader(f)\n",
    "    next(csvreader) # skip header\n",
    "    user_session_insert_query = insert_into_table(user_session_table_name, user_session_columns, csvreader)\n",
    "print(user_session_insert_query)"
   ]
  },
  {
   "cell_type": "markdown",
   "metadata": {
    "editable": true
   },
   "source": [
    "#### Data Verification"
   ]
  },
  {
   "cell_type": "code",
   "execution_count": 14,
   "metadata": {
    "editable": true
   },
   "outputs": [
    {
     "name": "stdout",
     "output_type": "stream",
     "text": [
      "['Down To The Bone', \"Keep On Keepin' On\", 'Sylvie', 'Cruz']\n",
      "['Three Drives', 'Greece 2000', 'Sylvie', 'Cruz']\n",
      "['Sebastien Tellier', 'Kilometer', 'Sylvie', 'Cruz']\n",
      "['Lonnie Gordon', 'Catch You Baby (Steve Pitron & Max Sanna Radio Edit)', 'Sylvie', 'Cruz']\n"
     ]
    }
   ],
   "source": [
    "query = f\"SELECT artist, song, firstName, lastName FROM {user_session_table_name} WHERE userId=10 AND sessionId=182\"\n",
    "display_query_results(query, ['artist', 'song', 'firstName', 'lastName'])"
   ]
  },
  {
   "cell_type": "markdown",
   "metadata": {
    "editable": true
   },
   "source": [
    "### Query 3\n",
    "\n",
    "> Give me every user name (first and last) in my music app history who listened to the song 'All Hands Against His Own'"
   ]
  },
  {
   "cell_type": "code",
   "execution_count": 15,
   "metadata": {
    "editable": true
   },
   "outputs": [
    {
     "name": "stdout",
     "output_type": "stream",
     "text": [
      "CREATE TABLE IF NOT EXISTS users_by_song (song text, artist text, firstName text, lastName text, PRIMARY KEY (song, artist))\n",
      "INSERT INTO users_by_song (song, artist, firstName, lastName) VALUES (%s, %s, %s, %s)\n"
     ]
    }
   ],
   "source": [
    "song_table_name = 'users_by_song'\n",
    "song_columns = ['song', 'artist', 'firstName', 'lastName']\n",
    "\n",
    "# Create table. Artist name is added to make sure that the primary key is unique.\n",
    "song_create_query = create_table(song_table_name, song_columns, 'song, artist')\n",
    "print(song_create_query)\n",
    "\n",
    "# Insert rows.\n",
    "with open(FILE, encoding = 'utf8') as f:\n",
    "    csvreader = csv.reader(f)\n",
    "    next(csvreader) # skip header\n",
    "    song_insert_query = insert_into_table(song_table_name, song_columns, csvreader)\n",
    "print(song_insert_query)"
   ]
  },
  {
   "cell_type": "markdown",
   "metadata": {
    "editable": true
   },
   "source": [
    "#### Data Verification"
   ]
  },
  {
   "cell_type": "code",
   "execution_count": 16,
   "metadata": {
    "editable": true
   },
   "outputs": [
    {
     "name": "stdout",
     "output_type": "stream",
     "text": [
      "['Sara', 'Johnson']\n"
     ]
    }
   ],
   "source": [
    "query = f\"SELECT firstName, lastName FROM {song_table_name} WHERE song='All Hands Against His Own'\"\n",
    "display_query_results(query, ['firstName', 'lastName'])"
   ]
  },
  {
   "cell_type": "markdown",
   "metadata": {
    "editable": true
   },
   "source": [
    "### Dropping the tables"
   ]
  },
  {
   "cell_type": "code",
   "execution_count": 17,
   "metadata": {
    "editable": true
   },
   "outputs": [
    {
     "name": "stdout",
     "output_type": "stream",
     "text": [
      "DROP TABLE song_by_session_item\n",
      "DROP TABLE song_by_user_session\n",
      "DROP TABLE users_by_song\n"
     ]
    }
   ],
   "source": [
    "def drop_table(name: str) -> str:\n",
    "    query = f'DROP TABLE {name}'\n",
    "    try:\n",
    "        rows = session.execute(query)\n",
    "        return query\n",
    "    except Exception as e:\n",
    "        print(e)\n",
    "    \n",
    "for table_name in CREATED_TABLES:\n",
    "    print(drop_table(table_name))"
   ]
  },
  {
   "cell_type": "markdown",
   "metadata": {
    "editable": true
   },
   "source": [
    "### Closing the session and cluster connection¶"
   ]
  },
  {
   "cell_type": "code",
   "execution_count": 18,
   "metadata": {
    "editable": true
   },
   "outputs": [],
   "source": [
    "session.shutdown()\n",
    "cluster.shutdown()"
   ]
  },
  {
   "cell_type": "code",
   "execution_count": null,
   "metadata": {
    "editable": true
   },
   "outputs": [],
   "source": []
  }
 ],
 "metadata": {
  "kernelspec": {
   "display_name": "Python 3",
   "language": "python",
   "name": "python3"
  },
  "language_info": {
   "codemirror_mode": {
    "name": "ipython",
    "version": 3
   },
   "file_extension": ".py",
   "mimetype": "text/x-python",
   "name": "python",
   "nbconvert_exporter": "python",
   "pygments_lexer": "ipython3",
   "version": "3.6.3"
  }
 },
 "nbformat": 4,
 "nbformat_minor": 4
}
