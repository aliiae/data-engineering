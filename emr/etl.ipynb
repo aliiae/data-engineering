{
 "cells": [
  {
   "cell_type": "code",
   "execution_count": 8,
   "metadata": {},
   "outputs": [
    {
     "data": {
      "application/vnd.jupyter.widget-view+json": {
       "model_id": "8713f1f7033847cdad233620d6a2bf87",
       "version_major": 2,
       "version_minor": 0
      },
      "text/plain": [
       "VBox()"
      ]
     },
     "metadata": {},
     "output_type": "display_data"
    },
    {
     "data": {
      "application/vnd.jupyter.widget-view+json": {
       "model_id": "",
       "version_major": 2,
       "version_minor": 0
      },
      "text/plain": [
       "FloatProgress(value=0.0, bar_style='info', description='Progress:', layout=Layout(height='25px', width='50%'),…"
      ]
     },
     "metadata": {},
     "output_type": "display_data"
    }
   ],
   "source": [
    "import os\n",
    "\n",
    "from pyspark.sql.functions import to_timestamp\n",
    "\n",
    "INPUT_DATA = 's3a://udacity-dend/'\n",
    "OUTPUT_DATA = 's3://dend-results/'\n",
    "SONG_DATA_PATTERN = INPUT_DATA + 'song_data/*/*/*/*.json'\n",
    "LOG_DATA_PATTERN = INPUT_DATA + 'log-data/*/*/*.json'\n",
    "output_data = OUTPUT_DATA\n",
    "input_data = INPUT_DATA"
   ]
  },
  {
   "cell_type": "code",
   "execution_count": 2,
   "metadata": {},
   "outputs": [
    {
     "data": {
      "application/vnd.jupyter.widget-view+json": {
       "model_id": "2c0782017ab64a3ab696fb397edf3f1a",
       "version_major": 2,
       "version_minor": 0
      },
      "text/plain": [
       "VBox()"
      ]
     },
     "metadata": {},
     "output_type": "display_data"
    },
    {
     "data": {
      "application/vnd.jupyter.widget-view+json": {
       "model_id": "",
       "version_major": 2,
       "version_minor": 0
      },
      "text/plain": [
       "FloatProgress(value=0.0, bar_style='info', description='Progress:', layout=Layout(height='25px', width='50%'),…"
      ]
     },
     "metadata": {},
     "output_type": "display_data"
    }
   ],
   "source": [
    "song_temp_view = 'songs'\n",
    "log_temp_view = 'logs'"
   ]
  },
  {
   "cell_type": "code",
   "execution_count": 3,
   "metadata": {},
   "outputs": [
    {
     "data": {
      "application/vnd.jupyter.widget-view+json": {
       "model_id": "0bef7a5c1ca842dc97aa167fbffaa18f",
       "version_major": 2,
       "version_minor": 0
      },
      "text/plain": [
       "VBox()"
      ]
     },
     "metadata": {},
     "output_type": "display_data"
    },
    {
     "data": {
      "application/vnd.jupyter.widget-view+json": {
       "model_id": "",
       "version_major": 2,
       "version_minor": 0
      },
      "text/plain": [
       "FloatProgress(value=0.0, bar_style='info', description='Progress:', layout=Layout(height='25px', width='50%'),…"
      ]
     },
     "metadata": {},
     "output_type": "display_data"
    }
   ],
   "source": [
    "select_artists = f\"\"\"\n",
    "    SELECT DISTINCT artist_id,\n",
    "        artist_name,\n",
    "        artist_location,\n",
    "        artist_latitude,\n",
    "        artist_longitude\n",
    "    FROM {song_temp_view}\n",
    "    WHERE artist_id IS NOT NULL\n",
    "    \"\"\"\n",
    "\n",
    "select_songs = f\"\"\"\n",
    "    SELECT DISTINCT song_id,\n",
    "        title,\n",
    "        artist_id,\n",
    "        year,\n",
    "        duration\n",
    "    FROM {song_temp_view}\n",
    "    WHERE song_id IS NOT NULL\n",
    "\"\"\"\n",
    "\n",
    "select_songplays = f\"\"\"\n",
    "    SELECT logs.start_time,\n",
    "        logs.userId AS user_id,\n",
    "        logs.level,\n",
    "        songs.song_id,\n",
    "        songs.artist_id,\n",
    "        logs.sessionId AS session_id,\n",
    "        logs.location,\n",
    "        logs.userAgent AS user_agent,\n",
    "        EXTRACT(\n",
    "            month\n",
    "            FROM logs.start_time\n",
    "        ) AS month,\n",
    "        EXTRACT(\n",
    "            year\n",
    "            FROM logs.start_time\n",
    "        ) AS year\n",
    "    FROM {log_temp_view} LEFT OUTER JOIN {song_temp_view} \n",
    "        ON song = songs.title\n",
    "            AND logs.artist = songs.artist_name\n",
    "            AND logs.length = songs.duration\n",
    "\"\"\"\n",
    "\n",
    "select_time = f\"\"\"\n",
    "    SELECT DISTINCT start_time,\n",
    "        EXTRACT(\n",
    "            hour\n",
    "            FROM start_time\n",
    "        ) AS hour,\n",
    "        EXTRACT(\n",
    "            day\n",
    "            FROM start_time\n",
    "        ) AS day,\n",
    "        EXTRACT(\n",
    "            week\n",
    "            FROM start_time\n",
    "        ) AS week,\n",
    "        EXTRACT(\n",
    "            month\n",
    "            FROM start_time\n",
    "        ) AS month,\n",
    "        EXTRACT(\n",
    "            year\n",
    "            FROM start_time\n",
    "        ) AS year,\n",
    "        EXTRACT(\n",
    "            dayofweek\n",
    "            FROM start_time\n",
    "        ) AS dayofweek\n",
    "    FROM {log_temp_view}\n",
    "    WHERE start_time IS NOT NULL\n",
    "\"\"\"\n",
    "\n",
    "select_users = f\"\"\"\n",
    "    WITH last_song_play_times AS (\n",
    "        SELECT userId, MAX(start_time) AS last_song_play\n",
    "        FROM logs\n",
    "    GROUP BY userId\n",
    "    )\n",
    "    SELECT logs.userId,\n",
    "        logs.firstName,\n",
    "        logs.lastName,\n",
    "        logs.gender,\n",
    "        logs.level\n",
    "    FROM {log_temp_view}\n",
    "    INNER JOIN last_song_play_times t \n",
    "        ON logs.userId = t.userId \n",
    "        AND logs.start_time = t.last_song_play\n",
    "\"\"\""
   ]
  },
  {
   "cell_type": "code",
   "execution_count": 13,
   "metadata": {},
   "outputs": [
    {
     "data": {
      "application/vnd.jupyter.widget-view+json": {
       "model_id": "ecb7f2e74b5c4ca89c0bfa96a10a6225",
       "version_major": 2,
       "version_minor": 0
      },
      "text/plain": [
       "VBox()"
      ]
     },
     "metadata": {},
     "output_type": "display_data"
    },
    {
     "data": {
      "application/vnd.jupyter.widget-view+json": {
       "model_id": "",
       "version_major": 2,
       "version_minor": 0
      },
      "text/plain": [
       "FloatProgress(value=0.0, bar_style='info', description='Progress:', layout=Layout(height='25px', width='50%'),…"
      ]
     },
     "metadata": {},
     "output_type": "display_data"
    }
   ],
   "source": [
    "song_df = spark.read.json(SONG_DATA_PATTERN)\n",
    "song_df.createOrReplaceTempView(song_temp_view)"
   ]
  },
  {
   "cell_type": "code",
   "execution_count": 14,
   "metadata": {},
   "outputs": [
    {
     "data": {
      "application/vnd.jupyter.widget-view+json": {
       "model_id": "13b4217a445b4bbe829d3300d560ea48",
       "version_major": 2,
       "version_minor": 0
      },
      "text/plain": [
       "VBox()"
      ]
     },
     "metadata": {},
     "output_type": "display_data"
    },
    {
     "data": {
      "application/vnd.jupyter.widget-view+json": {
       "model_id": "",
       "version_major": 2,
       "version_minor": 0
      },
      "text/plain": [
       "FloatProgress(value=0.0, bar_style='info', description='Progress:', layout=Layout(height='25px', width='50%'),…"
      ]
     },
     "metadata": {},
     "output_type": "display_data"
    }
   ],
   "source": [
    "songs_table = spark.sql(select_songs)\n",
    "songs_table.write.partitionBy(['year', 'artist_id']).parquet(\n",
    "    os.path.join(output_data, 'songs.parquet')\n",
    ")"
   ]
  },
  {
   "cell_type": "code",
   "execution_count": 15,
   "metadata": {},
   "outputs": [
    {
     "data": {
      "application/vnd.jupyter.widget-view+json": {
       "model_id": "9a44b1cbc4f74df290a37ce78f3329da",
       "version_major": 2,
       "version_minor": 0
      },
      "text/plain": [
       "VBox()"
      ]
     },
     "metadata": {},
     "output_type": "display_data"
    },
    {
     "data": {
      "application/vnd.jupyter.widget-view+json": {
       "model_id": "",
       "version_major": 2,
       "version_minor": 0
      },
      "text/plain": [
       "FloatProgress(value=0.0, bar_style='info', description='Progress:', layout=Layout(height='25px', width='50%'),…"
      ]
     },
     "metadata": {},
     "output_type": "display_data"
    }
   ],
   "source": [
    "artists_table = spark.sql(select_artists)\n",
    "artists_table.write.parquet(os.path.join(output_data, 'artists.parquet'))"
   ]
  },
  {
   "cell_type": "code",
   "execution_count": 5,
   "metadata": {},
   "outputs": [
    {
     "data": {
      "application/vnd.jupyter.widget-view+json": {
       "model_id": "acd75cd51ae14a28af66b6645ac9a8c8",
       "version_major": 2,
       "version_minor": 0
      },
      "text/plain": [
       "VBox()"
      ]
     },
     "metadata": {},
     "output_type": "display_data"
    },
    {
     "data": {
      "application/vnd.jupyter.widget-view+json": {
       "model_id": "",
       "version_major": 2,
       "version_minor": 0
      },
      "text/plain": [
       "FloatProgress(value=0.0, bar_style='info', description='Progress:', layout=Layout(height='25px', width='50%'),…"
      ]
     },
     "metadata": {},
     "output_type": "display_data"
    }
   ],
   "source": [
    "df = spark.read.json(LOG_DATA_PATTERN)\n",
    "df = df.filter(\"page == 'NextSong'\")  # filter by actions for song plays\n",
    "df = df.withColumn('start_time', to_timestamp(df.ts / 1000))\n",
    "df.createOrReplaceTempView(log_temp_view)"
   ]
  },
  {
   "cell_type": "code",
   "execution_count": 9,
   "metadata": {},
   "outputs": [
    {
     "data": {
      "application/vnd.jupyter.widget-view+json": {
       "model_id": "41f92ecd7cf04ebd80af141ae6a10f41",
       "version_major": 2,
       "version_minor": 0
      },
      "text/plain": [
       "VBox()"
      ]
     },
     "metadata": {},
     "output_type": "display_data"
    },
    {
     "data": {
      "application/vnd.jupyter.widget-view+json": {
       "model_id": "",
       "version_major": 2,
       "version_minor": 0
      },
      "text/plain": [
       "FloatProgress(value=0.0, bar_style='info', description='Progress:', layout=Layout(height='25px', width='50%'),…"
      ]
     },
     "metadata": {},
     "output_type": "display_data"
    }
   ],
   "source": [
    "users_table = spark.sql(select_users)\n",
    "users_table.write.parquet(os.path.join(output_data, 'users.parquet'))"
   ]
  },
  {
   "cell_type": "code",
   "execution_count": 12,
   "metadata": {},
   "outputs": [
    {
     "data": {
      "application/vnd.jupyter.widget-view+json": {
       "model_id": "6fecf6b8be464127a0ec430f0bf0510e",
       "version_major": 2,
       "version_minor": 0
      },
      "text/plain": [
       "VBox()"
      ]
     },
     "metadata": {},
     "output_type": "display_data"
    },
    {
     "data": {
      "application/vnd.jupyter.widget-view+json": {
       "model_id": "",
       "version_major": 2,
       "version_minor": 0
      },
      "text/plain": [
       "FloatProgress(value=0.0, bar_style='info', description='Progress:', layout=Layout(height='25px', width='50%'),…"
      ]
     },
     "metadata": {},
     "output_type": "display_data"
    }
   ],
   "source": [
    "time_table = spark.sql(select_time)\n",
    "time_table.write.partitionBy(['year', 'month']).parquet(\n",
    "        os.path.join(output_data, 'time.parquet')\n",
    ")"
   ]
  },
  {
   "cell_type": "code",
   "execution_count": 16,
   "metadata": {},
   "outputs": [
    {
     "data": {
      "application/vnd.jupyter.widget-view+json": {
       "model_id": "a2b500413b444534aa3d74c7e1a1bf95",
       "version_major": 2,
       "version_minor": 0
      },
      "text/plain": [
       "VBox()"
      ]
     },
     "metadata": {},
     "output_type": "display_data"
    },
    {
     "data": {
      "application/vnd.jupyter.widget-view+json": {
       "model_id": "",
       "version_major": 2,
       "version_minor": 0
      },
      "text/plain": [
       "FloatProgress(value=0.0, bar_style='info', description='Progress:', layout=Layout(height='25px', width='50%'),…"
      ]
     },
     "metadata": {},
     "output_type": "display_data"
    }
   ],
   "source": [
    "songplays_table = spark.sql(select_songplays)\n",
    "songplays_table.write.partitionBy(['year', 'month']).parquet(\n",
    "        os.path.join(output_data, 'songplays.parquet')\n",
    ")"
   ]
  },
  {
   "cell_type": "code",
   "execution_count": null,
   "metadata": {},
   "outputs": [],
   "source": []
  }
 ],
 "metadata": {
  "kernelspec": {
   "display_name": "PySpark",
   "language": "",
   "name": "pysparkkernel"
  },
  "language_info": {
   "codemirror_mode": {
    "name": "python",
    "version": 2
   },
   "mimetype": "text/x-python",
   "name": "pyspark",
   "pygments_lexer": "python2"
  }
 },
 "nbformat": 4,
 "nbformat_minor": 4
}
